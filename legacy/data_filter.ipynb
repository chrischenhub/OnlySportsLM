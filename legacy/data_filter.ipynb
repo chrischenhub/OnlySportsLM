{
 "cells": [
  {
   "cell_type": "code",
   "execution_count": 50,
   "metadata": {},
   "outputs": [],
   "source": [
    "import pandas as pd\n",
    "\n",
    "# Specify the path to your parquet file\n",
    "parquet_file_path = '014_00000.parquet'\n",
    "\n",
    "# Load the parquet file into a DataFrame\n",
    "df = pd.read_parquet(parquet_file_path)\n",
    "ur = df.url.tolist()\n"
   ]
  },
  {
   "cell_type": "code",
   "execution_count": 58,
   "metadata": {},
   "outputs": [],
   "source": [
    "label = ([i for i in ur if 'sport' in i])\n",
    "df.loc[df['url'].isin(label)].token_count.sum()\n",
    "sport = df.loc[df['url'].isin(label)].reset_index()\n",
    "sport['label'] = 1\n",
    "\n",
    "label = ([i for i in ur if 'business' in i])\n",
    "df.loc[df['url'].isin(label)].token_count.sum()\n",
    "\n",
    "business = df.loc[df['url'].isin(label)]\n",
    "business['label'] = 0\n",
    "\n",
    "business = business[['text','label','token_count']].reset_index(drop=True)\n",
    "sport = sport[['text','label','token_count']].reset_index(drop=True)\n",
    "\n",
    "x = pd.concat([business,sport])"
   ]
  },
  {
   "cell_type": "code",
   "execution_count": 60,
   "metadata": {},
   "outputs": [],
   "source": [
    "business = business[['text','label','token_count']].reset_index(drop=True)\n",
    "sport = sport[['text','label','token_count']].reset_index(drop=True)"
   ]
  },
  {
   "cell_type": "code",
   "execution_count": 61,
   "metadata": {},
   "outputs": [],
   "source": [
    "x = pd.concat([business,sport])\n",
    "x.to_parquet('business_sport.parquet')"
   ]
  }
 ],
 "metadata": {
  "kernelspec": {
   "display_name": "base",
   "language": "python",
   "name": "python3"
  },
  "language_info": {
   "codemirror_mode": {
    "name": "ipython",
    "version": 3
   },
   "file_extension": ".py",
   "mimetype": "text/x-python",
   "name": "python",
   "nbconvert_exporter": "python",
   "pygments_lexer": "ipython3",
   "version": "3.9.16"
  }
 },
 "nbformat": 4,
 "nbformat_minor": 2
}
